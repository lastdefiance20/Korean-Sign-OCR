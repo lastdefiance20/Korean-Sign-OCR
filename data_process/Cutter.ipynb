{
 "cells": [
  {
   "cell_type": "code",
   "execution_count": null,
   "id": "dc5eeb38",
   "metadata": {},
   "outputs": [],
   "source": [
    "!pip install tqdm"
   ]
  },
  {
   "cell_type": "code",
   "execution_count": 1,
   "id": "52ce3e38",
   "metadata": {},
   "outputs": [],
   "source": [
    "import cv2\n",
    "import matplotlib.pylab as plt\n",
    "import torch\n",
    "import torchvision\n",
    "import json\n",
    "import re\n",
    "import glob\n",
    "import pandas as pd\n",
    "import numpy as np\n",
    "from tqdm import tqdm\n",
    "import os"
   ]
  },
  {
   "cell_type": "code",
   "execution_count": 6,
   "id": "ffc7fcb1",
   "metadata": {},
   "outputs": [],
   "source": [
    "train_df = pd.read_csv('./train.csv')\n",
    "img_dir = './train2'"
   ]
  },
  {
   "cell_type": "code",
   "execution_count": 7,
   "id": "8648569f",
   "metadata": {},
   "outputs": [
    {
     "name": "stderr",
     "output_type": "stream",
     "text": [
      "100%|█████████████████████████████████████████████████████████████████████████| 12159/12159 [00:00<00:00, 29025.85it/s]\n"
     ]
    }
   ],
   "source": [
    "textfile = open(\"gt_validation.txt\", 'w', encoding='utf-8')\n",
    "for i in tqdm(range(len(train_df))):\n",
    "    data = \"%s\\t%s\\n\" %(f'{img_dir[2:]}/{train_df.iloc[i, 0][8:]}', train_df.iloc[i, 1])\n",
    "    textfile.write(data)\n",
    "textfile.close()"
   ]
  },
  {
   "cell_type": "code",
   "execution_count": 8,
   "id": "e427bc95",
   "metadata": {},
   "outputs": [],
   "source": [
    "textfile = open(\"gt_train.txt\", 'w', encoding='utf-8')\n",
    "nokor = re.compile('[0-9a-zA-Z!?]')\n",
    "n = 1\n",
    "size = (224, 224)\n",
    "name = 'book'\n",
    "img_dir = './train2'\n",
    "os.mkdir(img_dir) "
   ]
  },
  {
   "cell_type": "markdown",
   "id": "5c87fbd5",
   "metadata": {},
   "source": [
    "# TRAIN"
   ]
  },
  {
   "cell_type": "code",
   "execution_count": 9,
   "id": "f73c7b98",
   "metadata": {},
   "outputs": [],
   "source": [
    "train_df = pd.read_csv('./train.csv')"
   ]
  },
  {
   "cell_type": "code",
   "execution_count": 11,
   "id": "e7a3715d",
   "metadata": {},
   "outputs": [
    {
     "name": "stderr",
     "output_type": "stream",
     "text": [
      "100%|████████████████████████████████████████████████████████████████████████████| 12159/12159 [03:39<00:00, 55.28it/s]\n"
     ]
    }
   ],
   "source": [
    "name = 'train'\n",
    "n = 1\n",
    "\n",
    "for i in tqdm(range(len(train_df))):\n",
    "    img_path = train_df.iloc[i ,0]\n",
    "    \n",
    "    img_array = np.fromfile(img_path, np.uint8)\n",
    "    tmp_img = cv2.imdecode(img_array, cv2.IMREAD_COLOR)\n",
    "    \n",
    "    h, w = tmp_img.shape[:2]\n",
    "    ash = size[1]/h\n",
    "    asw = size[0]/w\n",
    "\n",
    "    if asw < ash:\n",
    "        sizeas=(int(w*asw), int(h*asw))\n",
    "    else:\n",
    "        sizeas=(int(w*ash), int(h*ash))\n",
    "\n",
    "    #save image to path\n",
    "    tmp_img = cv2.resize(tmp_img, dsize=sizeas)\n",
    "    cv2.imwrite(f'{img_dir}/{train_df.iloc[i, 0][8:]}', tmp_img)\n",
    "\n",
    "    data = \"%s\\t%s\\n\" %(f'{img_dir[2:]}/{train_df.iloc[i, 0][8:]}', train_df.iloc[i, 1])\n",
    "    textfile.write(data)\n",
    "    n += 1"
   ]
  },
  {
   "cell_type": "markdown",
   "id": "c1bc026b",
   "metadata": {},
   "source": [
    "# 가로형간판 1"
   ]
  },
  {
   "cell_type": "code",
   "execution_count": 5,
   "id": "8b63d1a4",
   "metadata": {},
   "outputs": [
    {
     "name": "stdout",
     "output_type": "stream",
     "text": [
      "29985 29985\n"
     ]
    }
   ],
   "source": [
    "json_list = sorted(glob.glob('./1.간판/1.가로형간판/가로형간판1/*.json'))\n",
    "img_list = sorted(glob.glob('./가로형간판_원천데이터1/*'))\n",
    "print(len(json_list), len(img_list))"
   ]
  },
  {
   "cell_type": "code",
   "execution_count": 6,
   "id": "9d54c2bb",
   "metadata": {},
   "outputs": [
    {
     "name": "stderr",
     "output_type": "stream",
     "text": [
      "29985it [17:24, 28.70it/s]\n"
     ]
    }
   ],
   "source": [
    "name = 'signw'\n",
    "n = 1\n",
    "\n",
    "for json_path, img_path in tqdm(zip(json_list, img_list)):\n",
    "    try:\n",
    "        file = json.load(open(json_path, encoding='UTF8'))\n",
    "        img_array = np.fromfile(img_path, np.uint8)\n",
    "        img = cv2.imdecode(img_array, cv2.IMREAD_COLOR)\n",
    "        for f in file['annotations']:\n",
    "\n",
    "            #text가 한글이 아니면 pass\n",
    "            if nokor.search(f['text']):\n",
    "                continue\n",
    "\n",
    "            #crop image by bounding box\n",
    "            tmp_img = img[f['bbox'][1]:f['bbox'][1]+f['bbox'][3],\n",
    "                         f['bbox'][0]:f['bbox'][0]+f['bbox'][2]]\n",
    "\n",
    "            #reshape max size of image to 224\n",
    "            h, w = tmp_img.shape[:2]\n",
    "            ash = size[1]/h\n",
    "            asw = size[0]/w\n",
    "\n",
    "            if asw < ash:\n",
    "                sizeas=(int(w*asw), int(h*asw))\n",
    "            else:\n",
    "                sizeas=(int(w*ash), int(h*ash))\n",
    "\n",
    "            #save image to path\n",
    "\n",
    "\n",
    "            tmp_img = cv2.resize(tmp_img, dsize=sizeas)\n",
    "            cv2.imwrite(f'{img_dir}/{name}_{str(n).zfill(5)}.jpg', tmp_img)\n",
    "\n",
    "            data = \"%s\\t%s\\n\" %(f'{img_dir[2:]}/{name}_{str(n).zfill(5)}.jpg', f['text'])\n",
    "            textfile.write(data)\n",
    "\n",
    "            n += 1\n",
    "    except:\n",
    "        pass"
   ]
  },
  {
   "cell_type": "markdown",
   "id": "798421bc",
   "metadata": {},
   "source": [
    "# 가로형간판 2"
   ]
  },
  {
   "cell_type": "code",
   "execution_count": 7,
   "id": "3b44249d",
   "metadata": {},
   "outputs": [
    {
     "name": "stdout",
     "output_type": "stream",
     "text": [
      "30000 30000\n"
     ]
    }
   ],
   "source": [
    "json_list = sorted(glob.glob('./1.간판/1.가로형간판/가로형간판2/*.json'))\n",
    "img_list = sorted(glob.glob('./가로형간판_원천데이터2/*'))\n",
    "print(len(json_list), len(img_list))"
   ]
  },
  {
   "cell_type": "code",
   "execution_count": 8,
   "id": "7d37a994",
   "metadata": {},
   "outputs": [
    {
     "name": "stderr",
     "output_type": "stream",
     "text": [
      "30000it [17:41, 28.26it/s]\n"
     ]
    }
   ],
   "source": [
    "name = 'signw2'\n",
    "n = 1\n",
    "\n",
    "for json_path, img_path in tqdm(zip(json_list, img_list)):\n",
    "    try:\n",
    "        file = json.load(open(json_path, encoding='UTF8'))\n",
    "        img_array = np.fromfile(img_path, np.uint8)\n",
    "        img = cv2.imdecode(img_array, cv2.IMREAD_COLOR)\n",
    "        for f in file['annotations']:\n",
    "\n",
    "            #text가 한글이 아니면 pass\n",
    "            if nokor.search(f['text']):\n",
    "                continue\n",
    "\n",
    "            #crop image by bounding box\n",
    "            tmp_img = img[f['bbox'][1]:f['bbox'][1]+f['bbox'][3],\n",
    "                         f['bbox'][0]:f['bbox'][0]+f['bbox'][2]]\n",
    "\n",
    "            #reshape max size of image to 224\n",
    "            h, w = tmp_img.shape[:2]\n",
    "            ash = size[1]/h\n",
    "            asw = size[0]/w\n",
    "\n",
    "            if asw < ash:\n",
    "                sizeas=(int(w*asw), int(h*asw))\n",
    "            else:\n",
    "                sizeas=(int(w*ash), int(h*ash))\n",
    "\n",
    "            #save image to path\n",
    "\n",
    "\n",
    "            tmp_img = cv2.resize(tmp_img, dsize=sizeas)\n",
    "            cv2.imwrite(f'{img_dir}/{name}_{str(n).zfill(5)}.jpg', tmp_img)\n",
    "\n",
    "            data = \"%s\\t%s\\n\" %(f'{img_dir[2:]}/{name}_{str(n).zfill(5)}.jpg', f['text'])\n",
    "            textfile.write(data)\n",
    "\n",
    "            n += 1\n",
    "    except:\n",
    "        pass"
   ]
  },
  {
   "cell_type": "markdown",
   "id": "8d292804",
   "metadata": {},
   "source": [
    "# 세로형간판"
   ]
  },
  {
   "cell_type": "code",
   "execution_count": 9,
   "id": "8723ffb9",
   "metadata": {},
   "outputs": [
    {
     "name": "stdout",
     "output_type": "stream",
     "text": [
      "25557 25549\n"
     ]
    }
   ],
   "source": [
    "tmp_json_list = sorted(glob.glob('./1.간판/3.세로형간판/*.json'))\n",
    "tmp_img_list = sorted(glob.glob('./세로형간판_원천데이터/*'))\n",
    "print(len(tmp_json_list), len(tmp_img_list))"
   ]
  },
  {
   "cell_type": "code",
   "execution_count": 10,
   "id": "79f23b69",
   "metadata": {},
   "outputs": [],
   "source": [
    "json_list = []\n",
    "img_list = []\n",
    "\n",
    "i = 0\n",
    "for tmp_img_path in tmp_img_list:\n",
    "    idx = i\n",
    "    try:\n",
    "        while True:\n",
    "            tmp_json_path = tmp_json_list[idx]\n",
    "            if tmp_img_path.split('.')[1][-12:] == tmp_json_path.split('.')[3][-12:]:\n",
    "                break\n",
    "            else:\n",
    "                idx+=1\n",
    "        \n",
    "        img_list.append(tmp_img_path)\n",
    "        json_list.append(tmp_json_path)\n",
    "        i += 1\n",
    "        \n",
    "    except:\n",
    "        print(tmp_img_path)"
   ]
  },
  {
   "cell_type": "code",
   "execution_count": 11,
   "id": "db552d73",
   "metadata": {},
   "outputs": [
    {
     "name": "stdout",
     "output_type": "stream",
     "text": [
      "25549 25549\n"
     ]
    }
   ],
   "source": [
    "print(len(json_list), len(img_list))"
   ]
  },
  {
   "cell_type": "code",
   "execution_count": 12,
   "id": "f2f044f0",
   "metadata": {},
   "outputs": [
    {
     "name": "stdout",
     "output_type": "stream",
     "text": [
      "./1.간판/3.세로형간판\\간판_세로형간판_025602.json ./세로형간판_원천데이터\\간판_세로형간판_025602.jpg\n"
     ]
    }
   ],
   "source": [
    "print(json_list[25540], img_list[25540])"
   ]
  },
  {
   "cell_type": "code",
   "execution_count": 13,
   "id": "eff622cc",
   "metadata": {},
   "outputs": [
    {
     "name": "stderr",
     "output_type": "stream",
     "text": [
      "25549it [15:02, 28.30it/s]\n"
     ]
    }
   ],
   "source": [
    "name = 'signh'\n",
    "n = 1\n",
    "\n",
    "for json_path, img_path in tqdm(zip(json_list, img_list)):\n",
    "    try:\n",
    "        file = json.load(open(json_path, encoding='UTF8'))\n",
    "        img_array = np.fromfile(img_path, np.uint8)\n",
    "        img = cv2.imdecode(img_array, cv2.IMREAD_COLOR)\n",
    "        for f in file['annotations']:\n",
    "\n",
    "            #text가 한글이 아니면 pass\n",
    "            if nokor.search(f['text']):\n",
    "                continue\n",
    "\n",
    "            #crop image by bounding box\n",
    "            tmp_img = img[f['bbox'][1]:f['bbox'][1]+f['bbox'][3],\n",
    "                         f['bbox'][0]:f['bbox'][0]+f['bbox'][2]]\n",
    "\n",
    "            #reshape max size of image to 224\n",
    "            h, w = tmp_img.shape[:2]\n",
    "            ash = size[1]/h\n",
    "            asw = size[0]/w\n",
    "\n",
    "            if asw < ash:\n",
    "                sizeas=(int(w*asw), int(h*asw))\n",
    "            else:\n",
    "                sizeas=(int(w*ash), int(h*ash))\n",
    "\n",
    "            #save image to path\n",
    "\n",
    "\n",
    "            tmp_img = cv2.resize(tmp_img, dsize=sizeas)\n",
    "            cv2.imwrite(f'{img_dir}/{name}_{str(n).zfill(5)}.jpg', tmp_img)\n",
    "\n",
    "            data = \"%s\\t%s\\n\" %(f'{img_dir[2:]}/{name}_{str(n).zfill(5)}.jpg', f['text'])\n",
    "            textfile.write(data)\n",
    "\n",
    "            n += 1\n",
    "    except:\n",
    "        pass"
   ]
  },
  {
   "cell_type": "markdown",
   "id": "2c91d13a",
   "metadata": {},
   "source": [
    "# 돌출간판"
   ]
  },
  {
   "cell_type": "code",
   "execution_count": 14,
   "id": "b11ce741",
   "metadata": {},
   "outputs": [
    {
     "name": "stdout",
     "output_type": "stream",
     "text": [
      "29989 29989\n"
     ]
    }
   ],
   "source": [
    "json_list = sorted(glob.glob('./1.간판/2.돌출간판/돌출간판1/*.json'))\n",
    "img_list = sorted(glob.glob('./돌출간판_원천데이터1/*'))\n",
    "print(len(json_list), len(img_list))"
   ]
  },
  {
   "cell_type": "code",
   "execution_count": 15,
   "id": "96de33ed",
   "metadata": {},
   "outputs": [
    {
     "name": "stderr",
     "output_type": "stream",
     "text": [
      "29989it [15:55, 31.40it/s]\n"
     ]
    }
   ],
   "source": [
    "name = 'signd'\n",
    "n = 1\n",
    "\n",
    "for json_path, img_path in tqdm(zip(json_list, img_list)):\n",
    "    try:\n",
    "        file = json.load(open(json_path, encoding='UTF8'))\n",
    "        img_array = np.fromfile(img_path, np.uint8)\n",
    "        img = cv2.imdecode(img_array, cv2.IMREAD_COLOR)\n",
    "        for f in file['annotations']:\n",
    "\n",
    "            #text가 한글이 아니면 pass\n",
    "            if nokor.search(f['text']):\n",
    "                continue\n",
    "\n",
    "            #crop image by bounding box\n",
    "            tmp_img = img[f['bbox'][1]:f['bbox'][1]+f['bbox'][3],\n",
    "                         f['bbox'][0]:f['bbox'][0]+f['bbox'][2]]\n",
    "\n",
    "            #reshape max size of image to 224\n",
    "            h, w = tmp_img.shape[:2]\n",
    "            ash = size[1]/h\n",
    "            asw = size[0]/w\n",
    "\n",
    "            if asw < ash:\n",
    "                sizeas=(int(w*asw), int(h*asw))\n",
    "            else:\n",
    "                sizeas=(int(w*ash), int(h*ash))\n",
    "\n",
    "            #save image to path\n",
    "\n",
    "\n",
    "            tmp_img = cv2.resize(tmp_img, dsize=sizeas)\n",
    "            cv2.imwrite(f'{img_dir}/{name}_{str(n).zfill(5)}.jpg', tmp_img)\n",
    "\n",
    "            data = \"%s\\t%s\\n\" %(f'{img_dir[2:]}/{name}_{str(n).zfill(5)}.jpg', f['text'])\n",
    "            textfile.write(data)\n",
    "\n",
    "            n += 1\n",
    "    except:\n",
    "        pass"
   ]
  },
  {
   "cell_type": "markdown",
   "id": "df54a0bb",
   "metadata": {},
   "source": [
    "# 책표지"
   ]
  },
  {
   "cell_type": "code",
   "execution_count": 16,
   "id": "1b691b82",
   "metadata": {},
   "outputs": [
    {
     "name": "stdout",
     "output_type": "stream",
     "text": [
      "2108 2108\n"
     ]
    }
   ],
   "source": [
    "json_list = sorted(glob.glob('./2.책표지/01.총류/*.json'))\n",
    "img_list = sorted(glob.glob('./책표지1/01.총류/*'))\n",
    "img_list = img_list[1:]\n",
    "print(len(json_list), len(img_list))"
   ]
  },
  {
   "cell_type": "code",
   "execution_count": 17,
   "id": "07e47f38",
   "metadata": {},
   "outputs": [
    {
     "name": "stderr",
     "output_type": "stream",
     "text": [
      "2108it [01:16, 27.46it/s]\n"
     ]
    }
   ],
   "source": [
    "name = 'book1'\n",
    "n = 1\n",
    "\n",
    "for json_path, img_path in tqdm(zip(json_list, img_list)):\n",
    "    try:\n",
    "        file = json.load(open(json_path, encoding='UTF8'))\n",
    "        img_array = np.fromfile(img_path, np.uint8)\n",
    "        img = cv2.imdecode(img_array, cv2.IMREAD_COLOR)\n",
    "        for f in file['annotations']:\n",
    "\n",
    "            #text가 한글이 아니면 pass\n",
    "            if nokor.search(f['text']):\n",
    "                continue\n",
    "\n",
    "            #crop image by bounding box\n",
    "            tmp_img = img[f['bbox'][1]:f['bbox'][1]+f['bbox'][3],\n",
    "                         f['bbox'][0]:f['bbox'][0]+f['bbox'][2]]\n",
    "\n",
    "            #reshape max size of image to 224\n",
    "            h, w = tmp_img.shape[:2]\n",
    "            ash = size[1]/h\n",
    "            asw = size[0]/w\n",
    "\n",
    "            if asw < ash:\n",
    "                sizeas=(int(w*asw), int(h*asw))\n",
    "            else:\n",
    "                sizeas=(int(w*ash), int(h*ash))\n",
    "\n",
    "            #save image to path\n",
    "\n",
    "\n",
    "            tmp_img = cv2.resize(tmp_img, dsize=sizeas)\n",
    "            cv2.imwrite(f'{img_dir}/{name}_{str(n).zfill(5)}.jpg', tmp_img)\n",
    "\n",
    "            data = \"%s\\t%s\\n\" %(f'{img_dir[2:]}/{name}_{str(n).zfill(5)}.jpg', f['text'])\n",
    "            textfile.write(data)\n",
    "\n",
    "            n += 1\n",
    "    except:\n",
    "        pass"
   ]
  },
  {
   "cell_type": "code",
   "execution_count": 18,
   "id": "95e353b4",
   "metadata": {},
   "outputs": [
    {
     "name": "stdout",
     "output_type": "stream",
     "text": [
      "3112 3112\n"
     ]
    }
   ],
   "source": [
    "json_list = sorted(glob.glob('./2.책표지/02.철학/*.json'))\n",
    "img_list = sorted(glob.glob('./책표지1/02.철학/*'))\n",
    "img_list = img_list[1:]\n",
    "print(len(json_list), len(img_list))"
   ]
  },
  {
   "cell_type": "code",
   "execution_count": 19,
   "id": "1a215ccb",
   "metadata": {},
   "outputs": [
    {
     "name": "stderr",
     "output_type": "stream",
     "text": [
      "3112it [01:49, 28.54it/s]\n"
     ]
    }
   ],
   "source": [
    "name = 'book2'\n",
    "n = 1\n",
    "\n",
    "for json_path, img_path in tqdm(zip(json_list, img_list)):\n",
    "    try:\n",
    "        file = json.load(open(json_path, encoding='UTF8'))\n",
    "        img_array = np.fromfile(img_path, np.uint8)\n",
    "        img = cv2.imdecode(img_array, cv2.IMREAD_COLOR)\n",
    "        for f in file['annotations']:\n",
    "\n",
    "            #text가 한글이 아니면 pass\n",
    "            if nokor.search(f['text']):\n",
    "                continue\n",
    "\n",
    "            #crop image by bounding box\n",
    "            tmp_img = img[f['bbox'][1]:f['bbox'][1]+f['bbox'][3],\n",
    "                         f['bbox'][0]:f['bbox'][0]+f['bbox'][2]]\n",
    "\n",
    "            #reshape max size of image to 224\n",
    "            h, w = tmp_img.shape[:2]\n",
    "            ash = size[1]/h\n",
    "            asw = size[0]/w\n",
    "\n",
    "            if asw < ash:\n",
    "                sizeas=(int(w*asw), int(h*asw))\n",
    "            else:\n",
    "                sizeas=(int(w*ash), int(h*ash))\n",
    "\n",
    "            #save image to path\n",
    "\n",
    "\n",
    "            tmp_img = cv2.resize(tmp_img, dsize=sizeas)\n",
    "            cv2.imwrite(f'{img_dir}/{name}_{str(n).zfill(5)}.jpg', tmp_img)\n",
    "\n",
    "            data = \"%s\\t%s\\n\" %(f'{img_dir[2:]}/{name}_{str(n).zfill(5)}.jpg', f['text'])\n",
    "            textfile.write(data)\n",
    "\n",
    "            n += 1\n",
    "    except:\n",
    "        pass"
   ]
  },
  {
   "cell_type": "code",
   "execution_count": 20,
   "id": "5ba14342",
   "metadata": {},
   "outputs": [
    {
     "name": "stdout",
     "output_type": "stream",
     "text": [
      "3499 3499\n"
     ]
    }
   ],
   "source": [
    "json_list = sorted(glob.glob('./2.책표지/03.종교/*.json'))\n",
    "img_list = sorted(glob.glob('./책표지1/03.종교/*'))\n",
    "img_list = img_list[1:]\n",
    "print(len(json_list), len(img_list))"
   ]
  },
  {
   "cell_type": "code",
   "execution_count": 21,
   "id": "a8ec5d40",
   "metadata": {},
   "outputs": [
    {
     "name": "stderr",
     "output_type": "stream",
     "text": [
      "3499it [02:05, 27.83it/s]\n"
     ]
    }
   ],
   "source": [
    "name = 'book3'\n",
    "n = 1\n",
    "\n",
    "for json_path, img_path in tqdm(zip(json_list, img_list)):\n",
    "    try:\n",
    "        file = json.load(open(json_path, encoding='UTF8'))\n",
    "        img_array = np.fromfile(img_path, np.uint8)\n",
    "        img = cv2.imdecode(img_array, cv2.IMREAD_COLOR)\n",
    "        for f in file['annotations']:\n",
    "\n",
    "            #text가 한글이 아니면 pass\n",
    "            if nokor.search(f['text']):\n",
    "                continue\n",
    "\n",
    "            #crop image by bounding box\n",
    "            tmp_img = img[f['bbox'][1]:f['bbox'][1]+f['bbox'][3],\n",
    "                         f['bbox'][0]:f['bbox'][0]+f['bbox'][2]]\n",
    "\n",
    "            #reshape max size of image to 224\n",
    "            h, w = tmp_img.shape[:2]\n",
    "            ash = size[1]/h\n",
    "            asw = size[0]/w\n",
    "\n",
    "            if asw < ash:\n",
    "                sizeas=(int(w*asw), int(h*asw))\n",
    "            else:\n",
    "                sizeas=(int(w*ash), int(h*ash))\n",
    "\n",
    "            #save image to path\n",
    "\n",
    "\n",
    "            tmp_img = cv2.resize(tmp_img, dsize=sizeas)\n",
    "            cv2.imwrite(f'{img_dir}/{name}_{str(n).zfill(5)}.jpg', tmp_img)\n",
    "\n",
    "            data = \"%s\\t%s\\n\" %(f'{img_dir[2:]}/{name}_{str(n).zfill(5)}.jpg', f['text'])\n",
    "            textfile.write(data)\n",
    "\n",
    "            n += 1\n",
    "    except:\n",
    "        pass"
   ]
  },
  {
   "cell_type": "code",
   "execution_count": 22,
   "id": "1a00fd96",
   "metadata": {},
   "outputs": [
    {
     "name": "stdout",
     "output_type": "stream",
     "text": [
      "5601 5601\n"
     ]
    }
   ],
   "source": [
    "json_list = sorted(glob.glob('./2.책표지/04.사회과학/*.json'))\n",
    "img_list = sorted(glob.glob('./책표지1/04.사회과학/*'))\n",
    "img_list = img_list[1:]\n",
    "print(len(json_list), len(img_list))"
   ]
  },
  {
   "cell_type": "code",
   "execution_count": 23,
   "id": "07ac38a0",
   "metadata": {},
   "outputs": [
    {
     "name": "stderr",
     "output_type": "stream",
     "text": [
      "5601it [03:21, 27.85it/s]\n"
     ]
    }
   ],
   "source": [
    "name = 'book4'\n",
    "n = 1\n",
    "\n",
    "for json_path, img_path in tqdm(zip(json_list, img_list)):\n",
    "    try:\n",
    "        file = json.load(open(json_path, encoding='UTF8'))\n",
    "        img_array = np.fromfile(img_path, np.uint8)\n",
    "        img = cv2.imdecode(img_array, cv2.IMREAD_COLOR)\n",
    "        for f in file['annotations']:\n",
    "\n",
    "            #text가 한글이 아니면 pass\n",
    "            if nokor.search(f['text']):\n",
    "                continue\n",
    "\n",
    "            #crop image by bounding box\n",
    "            tmp_img = img[f['bbox'][1]:f['bbox'][1]+f['bbox'][3],\n",
    "                         f['bbox'][0]:f['bbox'][0]+f['bbox'][2]]\n",
    "\n",
    "            #reshape max size of image to 224\n",
    "            h, w = tmp_img.shape[:2]\n",
    "            ash = size[1]/h\n",
    "            asw = size[0]/w\n",
    "\n",
    "            if asw < ash:\n",
    "                sizeas=(int(w*asw), int(h*asw))\n",
    "            else:\n",
    "                sizeas=(int(w*ash), int(h*ash))\n",
    "\n",
    "            #save image to path\n",
    "\n",
    "\n",
    "            tmp_img = cv2.resize(tmp_img, dsize=sizeas)\n",
    "            cv2.imwrite(f'{img_dir}/{name}_{str(n).zfill(5)}.jpg', tmp_img)\n",
    "\n",
    "            data = \"%s\\t%s\\n\" %(f'{img_dir[2:]}/{name}_{str(n).zfill(5)}.jpg', f['text'])\n",
    "            textfile.write(data)\n",
    "\n",
    "            n += 1\n",
    "    except:\n",
    "        pass"
   ]
  },
  {
   "cell_type": "code",
   "execution_count": 24,
   "id": "447ed45e",
   "metadata": {},
   "outputs": [
    {
     "name": "stdout",
     "output_type": "stream",
     "text": [
      "2071 2071\n"
     ]
    }
   ],
   "source": [
    "json_list = sorted(glob.glob('./2.책표지/05.자연과학/*.json'))\n",
    "img_list = sorted(glob.glob('./책표지2/05.자연과학/*'))\n",
    "img_list = img_list[1:]\n",
    "print(len(json_list), len(img_list))"
   ]
  },
  {
   "cell_type": "code",
   "execution_count": 25,
   "id": "4fd65758",
   "metadata": {},
   "outputs": [
    {
     "name": "stderr",
     "output_type": "stream",
     "text": [
      "2071it [01:19, 26.15it/s]\n"
     ]
    }
   ],
   "source": [
    "name = 'book5'\n",
    "n = 1\n",
    "\n",
    "for json_path, img_path in tqdm(zip(json_list, img_list)):\n",
    "    try:\n",
    "        file = json.load(open(json_path, encoding='UTF8'))\n",
    "        img_array = np.fromfile(img_path, np.uint8)\n",
    "        img = cv2.imdecode(img_array, cv2.IMREAD_COLOR)\n",
    "        for f in file['annotations']:\n",
    "\n",
    "            #text가 한글이 아니면 pass\n",
    "            if nokor.search(f['text']):\n",
    "                continue\n",
    "\n",
    "            #crop image by bounding box\n",
    "            tmp_img = img[f['bbox'][1]:f['bbox'][1]+f['bbox'][3],\n",
    "                         f['bbox'][0]:f['bbox'][0]+f['bbox'][2]]\n",
    "\n",
    "            #reshape max size of image to 224\n",
    "            h, w = tmp_img.shape[:2]\n",
    "            ash = size[1]/h\n",
    "            asw = size[0]/w\n",
    "\n",
    "            if asw < ash:\n",
    "                sizeas=(int(w*asw), int(h*asw))\n",
    "            else:\n",
    "                sizeas=(int(w*ash), int(h*ash))\n",
    "\n",
    "            #save image to path\n",
    "\n",
    "\n",
    "            tmp_img = cv2.resize(tmp_img, dsize=sizeas)\n",
    "            cv2.imwrite(f'{img_dir}/{name}_{str(n).zfill(5)}.jpg', tmp_img)\n",
    "\n",
    "            data = \"%s\\t%s\\n\" %(f'{img_dir[2:]}/{name}_{str(n).zfill(5)}.jpg', f['text'])\n",
    "            textfile.write(data)\n",
    "\n",
    "            n += 1\n",
    "    except:\n",
    "        pass"
   ]
  },
  {
   "cell_type": "code",
   "execution_count": 26,
   "id": "3211bed0",
   "metadata": {},
   "outputs": [
    {
     "name": "stdout",
     "output_type": "stream",
     "text": [
      "6634 6634\n"
     ]
    }
   ],
   "source": [
    "json_list = sorted(glob.glob('./2.책표지/06.기술과학/*.json'))\n",
    "img_list = sorted(glob.glob('./책표지2/06.기술과학/*'))\n",
    "img_list = img_list[1:]\n",
    "print(len(json_list), len(img_list))"
   ]
  },
  {
   "cell_type": "code",
   "execution_count": 27,
   "id": "9e755849",
   "metadata": {},
   "outputs": [
    {
     "name": "stderr",
     "output_type": "stream",
     "text": [
      "6634it [03:53, 28.43it/s]\n"
     ]
    }
   ],
   "source": [
    "name = 'book6'\n",
    "n = 1\n",
    "\n",
    "for json_path, img_path in tqdm(zip(json_list, img_list)):\n",
    "    try:\n",
    "        file = json.load(open(json_path, encoding='UTF8'))\n",
    "        img_array = np.fromfile(img_path, np.uint8)\n",
    "        img = cv2.imdecode(img_array, cv2.IMREAD_COLOR)\n",
    "        for f in file['annotations']:\n",
    "\n",
    "            #text가 한글이 아니면 pass\n",
    "            if nokor.search(f['text']):\n",
    "                continue\n",
    "\n",
    "            #crop image by bounding box\n",
    "            tmp_img = img[f['bbox'][1]:f['bbox'][1]+f['bbox'][3],\n",
    "                         f['bbox'][0]:f['bbox'][0]+f['bbox'][2]]\n",
    "\n",
    "            #reshape max size of image to 224\n",
    "            h, w = tmp_img.shape[:2]\n",
    "            ash = size[1]/h\n",
    "            asw = size[0]/w\n",
    "\n",
    "            if asw < ash:\n",
    "                sizeas=(int(w*asw), int(h*asw))\n",
    "            else:\n",
    "                sizeas=(int(w*ash), int(h*ash))\n",
    "\n",
    "            #save image to path\n",
    "\n",
    "\n",
    "            tmp_img = cv2.resize(tmp_img, dsize=sizeas)\n",
    "            cv2.imwrite(f'{img_dir}/{name}_{str(n).zfill(5)}.jpg', tmp_img)\n",
    "\n",
    "            data = \"%s\\t%s\\n\" %(f'{img_dir[2:]}/{name}_{str(n).zfill(5)}.jpg', f['text'])\n",
    "            textfile.write(data)\n",
    "\n",
    "            n += 1\n",
    "    except:\n",
    "        pass"
   ]
  },
  {
   "cell_type": "code",
   "execution_count": 28,
   "id": "bc692ba9",
   "metadata": {},
   "outputs": [
    {
     "name": "stdout",
     "output_type": "stream",
     "text": [
      "2108 2108\n"
     ]
    }
   ],
   "source": [
    "json_list = sorted(glob.glob('./2.책표지/07.예술/*.json'))\n",
    "img_list = sorted(glob.glob('./책표지2/07.예술/*'))\n",
    "img_list = img_list[1:]\n",
    "print(len(json_list), len(img_list))"
   ]
  },
  {
   "cell_type": "code",
   "execution_count": 29,
   "id": "9f6b9a99",
   "metadata": {},
   "outputs": [
    {
     "name": "stderr",
     "output_type": "stream",
     "text": [
      "2108it [01:18, 26.88it/s]\n"
     ]
    }
   ],
   "source": [
    "name = 'book7'\n",
    "n = 1\n",
    "\n",
    "for json_path, img_path in tqdm(zip(json_list, img_list)):\n",
    "    try:\n",
    "        file = json.load(open(json_path, encoding='UTF8'))\n",
    "        img_array = np.fromfile(img_path, np.uint8)\n",
    "        img = cv2.imdecode(img_array, cv2.IMREAD_COLOR)\n",
    "        for f in file['annotations']:\n",
    "\n",
    "            #text가 한글이 아니면 pass\n",
    "            if nokor.search(f['text']):\n",
    "                continue\n",
    "\n",
    "            #crop image by bounding box\n",
    "            tmp_img = img[f['bbox'][1]:f['bbox'][1]+f['bbox'][3],\n",
    "                         f['bbox'][0]:f['bbox'][0]+f['bbox'][2]]\n",
    "\n",
    "            #reshape max size of image to 224\n",
    "            h, w = tmp_img.shape[:2]\n",
    "            ash = size[1]/h\n",
    "            asw = size[0]/w\n",
    "\n",
    "            if asw < ash:\n",
    "                sizeas=(int(w*asw), int(h*asw))\n",
    "            else:\n",
    "                sizeas=(int(w*ash), int(h*ash))\n",
    "\n",
    "            #save image to path\n",
    "\n",
    "\n",
    "            tmp_img = cv2.resize(tmp_img, dsize=sizeas)\n",
    "            cv2.imwrite(f'{img_dir}/{name}_{str(n).zfill(5)}.jpg', tmp_img)\n",
    "\n",
    "            data = \"%s\\t%s\\n\" %(f'{img_dir[2:]}/{name}_{str(n).zfill(5)}.jpg', f['text'])\n",
    "            textfile.write(data)\n",
    "\n",
    "            n += 1\n",
    "    except:\n",
    "        pass"
   ]
  },
  {
   "cell_type": "code",
   "execution_count": 30,
   "id": "889b6cf4",
   "metadata": {},
   "outputs": [
    {
     "name": "stdout",
     "output_type": "stream",
     "text": [
      "3081 3081\n"
     ]
    }
   ],
   "source": [
    "json_list = sorted(glob.glob('./2.책표지/08.언어/*.json'))\n",
    "img_list = sorted(glob.glob('./책표지2/08.언어/*'))\n",
    "img_list = img_list[1:]\n",
    "print(len(json_list), len(img_list))"
   ]
  },
  {
   "cell_type": "code",
   "execution_count": 31,
   "id": "8011e439",
   "metadata": {},
   "outputs": [
    {
     "name": "stderr",
     "output_type": "stream",
     "text": [
      "3081it [01:54, 26.85it/s]\n"
     ]
    }
   ],
   "source": [
    "name = 'book8'\n",
    "n = 1\n",
    "\n",
    "for json_path, img_path in tqdm(zip(json_list, img_list)):\n",
    "    try:\n",
    "        file = json.load(open(json_path, encoding='UTF8'))\n",
    "        img_array = np.fromfile(img_path, np.uint8)\n",
    "        img = cv2.imdecode(img_array, cv2.IMREAD_COLOR)\n",
    "        for f in file['annotations']:\n",
    "\n",
    "            #text가 한글이 아니면 pass\n",
    "            if nokor.search(f['text']):\n",
    "                continue\n",
    "\n",
    "            #crop image by bounding box\n",
    "            tmp_img = img[f['bbox'][1]:f['bbox'][1]+f['bbox'][3],\n",
    "                         f['bbox'][0]:f['bbox'][0]+f['bbox'][2]]\n",
    "\n",
    "            #reshape max size of image to 224\n",
    "            h, w = tmp_img.shape[:2]\n",
    "            ash = size[1]/h\n",
    "            asw = size[0]/w\n",
    "\n",
    "            if asw < ash:\n",
    "                sizeas=(int(w*asw), int(h*asw))\n",
    "            else:\n",
    "                sizeas=(int(w*ash), int(h*ash))\n",
    "\n",
    "            #save image to path\n",
    "\n",
    "\n",
    "            tmp_img = cv2.resize(tmp_img, dsize=sizeas)\n",
    "            cv2.imwrite(f'{img_dir}/{name}_{str(n).zfill(5)}.jpg', tmp_img)\n",
    "\n",
    "            data = \"%s\\t%s\\n\" %(f'{img_dir[2:]}/{name}_{str(n).zfill(5)}.jpg', f['text'])\n",
    "            textfile.write(data)\n",
    "\n",
    "            n += 1\n",
    "    except:\n",
    "        pass"
   ]
  },
  {
   "cell_type": "code",
   "execution_count": 32,
   "id": "53dbda7d",
   "metadata": {},
   "outputs": [
    {
     "name": "stdout",
     "output_type": "stream",
     "text": [
      "6932 6932\n"
     ]
    }
   ],
   "source": [
    "json_list = sorted(glob.glob('./2.책표지/09.문학/*.json'))\n",
    "img_list = sorted(glob.glob('./책표지3/09.문학/*'))\n",
    "img_list = img_list[1:]\n",
    "print(len(json_list), len(img_list))"
   ]
  },
  {
   "cell_type": "code",
   "execution_count": 33,
   "id": "af13f0d4",
   "metadata": {},
   "outputs": [
    {
     "name": "stderr",
     "output_type": "stream",
     "text": [
      "6932it [04:09, 27.79it/s]\n"
     ]
    }
   ],
   "source": [
    "name = 'book9'\n",
    "n = 1\n",
    "\n",
    "for json_path, img_path in tqdm(zip(json_list, img_list)):\n",
    "    try:\n",
    "        file = json.load(open(json_path, encoding='UTF8'))\n",
    "        img_array = np.fromfile(img_path, np.uint8)\n",
    "        img = cv2.imdecode(img_array, cv2.IMREAD_COLOR)\n",
    "        for f in file['annotations']:\n",
    "\n",
    "            #text가 한글이 아니면 pass\n",
    "            if nokor.search(f['text']):\n",
    "                continue\n",
    "\n",
    "            #crop image by bounding box\n",
    "            tmp_img = img[f['bbox'][1]:f['bbox'][1]+f['bbox'][3],\n",
    "                         f['bbox'][0]:f['bbox'][0]+f['bbox'][2]]\n",
    "\n",
    "            #reshape max size of image to 224\n",
    "            h, w = tmp_img.shape[:2]\n",
    "            ash = size[1]/h\n",
    "            asw = size[0]/w\n",
    "\n",
    "            if asw < ash:\n",
    "                sizeas=(int(w*asw), int(h*asw))\n",
    "            else:\n",
    "                sizeas=(int(w*ash), int(h*ash))\n",
    "\n",
    "            #save image to path\n",
    "\n",
    "\n",
    "            tmp_img = cv2.resize(tmp_img, dsize=sizeas)\n",
    "            cv2.imwrite(f'{img_dir}/{name}_{str(n).zfill(5)}.jpg', tmp_img)\n",
    "\n",
    "            data = \"%s\\t%s\\n\" %(f'{img_dir[2:]}/{name}_{str(n).zfill(5)}.jpg', f['text'])\n",
    "            textfile.write(data)\n",
    "\n",
    "            n += 1\n",
    "    except:\n",
    "        pass"
   ]
  },
  {
   "cell_type": "code",
   "execution_count": 34,
   "id": "6422faa0",
   "metadata": {},
   "outputs": [
    {
     "name": "stdout",
     "output_type": "stream",
     "text": [
      "2015 2015\n"
     ]
    }
   ],
   "source": [
    "json_list = sorted(glob.glob('./2.책표지/10.역사/*.json'))\n",
    "img_list = sorted(glob.glob('./책표지3/10.역사/*'))\n",
    "img_list = img_list[1:]\n",
    "print(len(json_list), len(img_list))"
   ]
  },
  {
   "cell_type": "code",
   "execution_count": 35,
   "id": "cc5c7238",
   "metadata": {},
   "outputs": [
    {
     "name": "stderr",
     "output_type": "stream",
     "text": [
      "2015it [01:15, 26.72it/s]\n"
     ]
    }
   ],
   "source": [
    "name = 'book10'\n",
    "n = 1\n",
    "\n",
    "for json_path, img_path in tqdm(zip(json_list, img_list)):\n",
    "    try:\n",
    "        file = json.load(open(json_path, encoding='UTF8'))\n",
    "        img_array = np.fromfile(img_path, np.uint8)\n",
    "        img = cv2.imdecode(img_array, cv2.IMREAD_COLOR)\n",
    "        for f in file['annotations']:\n",
    "\n",
    "            #text가 한글이 아니면 pass\n",
    "            if nokor.search(f['text']):\n",
    "                continue\n",
    "\n",
    "            #crop image by bounding box\n",
    "            tmp_img = img[f['bbox'][1]:f['bbox'][1]+f['bbox'][3],\n",
    "                         f['bbox'][0]:f['bbox'][0]+f['bbox'][2]]\n",
    "\n",
    "            #reshape max size of image to 224\n",
    "            h, w = tmp_img.shape[:2]\n",
    "            ash = size[1]/h\n",
    "            asw = size[0]/w\n",
    "\n",
    "            if asw < ash:\n",
    "                sizeas=(int(w*asw), int(h*asw))\n",
    "            else:\n",
    "                sizeas=(int(w*ash), int(h*ash))\n",
    "\n",
    "            #save image to path\n",
    "\n",
    "\n",
    "            tmp_img = cv2.resize(tmp_img, dsize=sizeas)\n",
    "            cv2.imwrite(f'{img_dir}/{name}_{str(n).zfill(5)}.jpg', tmp_img)\n",
    "\n",
    "            data = \"%s\\t%s\\n\" %(f'{img_dir[2:]}/{name}_{str(n).zfill(5)}.jpg', f['text'])\n",
    "            textfile.write(data)\n",
    "\n",
    "            n += 1\n",
    "    except:\n",
    "        pass"
   ]
  },
  {
   "cell_type": "code",
   "execution_count": 36,
   "id": "11108c97",
   "metadata": {},
   "outputs": [
    {
     "name": "stdout",
     "output_type": "stream",
     "text": [
      "3344 3344\n"
     ]
    }
   ],
   "source": [
    "json_list = sorted(glob.glob('./2.책표지/11.기타/*.json'))\n",
    "img_list = sorted(glob.glob('./책표지3/11.기타/*'))\n",
    "img_list = img_list[1:]\n",
    "print(len(json_list), len(img_list))"
   ]
  },
  {
   "cell_type": "code",
   "execution_count": 37,
   "id": "2bd9c86f",
   "metadata": {},
   "outputs": [
    {
     "name": "stderr",
     "output_type": "stream",
     "text": [
      "3344it [02:02, 27.38it/s]\n"
     ]
    }
   ],
   "source": [
    "name = 'book11'\n",
    "n = 1\n",
    "\n",
    "for json_path, img_path in tqdm(zip(json_list, img_list)):\n",
    "    try:\n",
    "        file = json.load(open(json_path, encoding='UTF8'))\n",
    "        img_array = np.fromfile(img_path, np.uint8)\n",
    "        img = cv2.imdecode(img_array, cv2.IMREAD_COLOR)\n",
    "        for f in file['annotations']:\n",
    "\n",
    "            #text가 한글이 아니면 pass\n",
    "            if nokor.search(f['text']):\n",
    "                continue\n",
    "\n",
    "            #crop image by bounding box\n",
    "            tmp_img = img[f['bbox'][1]:f['bbox'][1]+f['bbox'][3],\n",
    "                         f['bbox'][0]:f['bbox'][0]+f['bbox'][2]]\n",
    "\n",
    "            #reshape max size of image to 224\n",
    "            h, w = tmp_img.shape[:2]\n",
    "            ash = size[1]/h\n",
    "            asw = size[0]/w\n",
    "\n",
    "            if asw < ash:\n",
    "                sizeas=(int(w*asw), int(h*asw))\n",
    "            else:\n",
    "                sizeas=(int(w*ash), int(h*ash))\n",
    "\n",
    "            #save image to path\n",
    "\n",
    "\n",
    "            tmp_img = cv2.resize(tmp_img, dsize=sizeas)\n",
    "            cv2.imwrite(f'{img_dir}/{name}_{str(n).zfill(5)}.jpg', tmp_img)\n",
    "\n",
    "            data = \"%s\\t%s\\n\" %(f'{img_dir[2:]}/{name}_{str(n).zfill(5)}.jpg', f['text'])\n",
    "            textfile.write(data)\n",
    "\n",
    "            n += 1\n",
    "    except:\n",
    "        pass"
   ]
  },
  {
   "cell_type": "code",
   "execution_count": 38,
   "id": "77f6b4e3",
   "metadata": {},
   "outputs": [],
   "source": [
    "textfile.close()"
   ]
  }
 ],
 "metadata": {
  "kernelspec": {
   "display_name": "Python 3.9.12 ('base')",
   "language": "python",
   "name": "python3"
  },
  "language_info": {
   "codemirror_mode": {
    "name": "ipython",
    "version": 3
   },
   "file_extension": ".py",
   "mimetype": "text/x-python",
   "name": "python",
   "nbconvert_exporter": "python",
   "pygments_lexer": "ipython3",
   "version": "3.9.12"
  },
  "vscode": {
   "interpreter": {
    "hash": "24f4f8817329ddfaf02b54d63eb7c3e45c779aba8b44a116056b96860c8e6725"
   }
  }
 },
 "nbformat": 4,
 "nbformat_minor": 5
}
